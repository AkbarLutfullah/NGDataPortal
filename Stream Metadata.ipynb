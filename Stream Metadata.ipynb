{
 "cells": [
  {
   "cell_type": "markdown",
   "metadata": {},
   "source": [
    "# Retrieving Stream Metadata \n",
    "\n",
    "<br>\n",
    "\n",
    "### Imports"
   ]
  },
  {
   "cell_type": "code",
   "execution_count": 1,
   "metadata": {},
   "outputs": [],
   "source": [
    "import json\n",
    "import pandas as pd\n",
    "import numpy as np\n",
    "\n",
    "import matplotlib.pyplot as plt\n",
    "import seaborn as sns\n",
    "\n",
    "import functools\n",
    "from ipypb import track\n",
    "\n",
    "from NGDataPortal import Wrapper, stream_to_id_map"
   ]
  },
  {
   "cell_type": "markdown",
   "metadata": {},
   "source": [
    "<br>\n",
    "\n",
    "### Helper Functions"
   ]
  },
  {
   "cell_type": "code",
   "execution_count": 2,
   "metadata": {},
   "outputs": [],
   "source": [
    "def try_accept(exception=np.nan):\n",
    "    def decorator(func):\n",
    "        @functools.wraps(func)\n",
    "        def wrapper(*args, **kwargs):\n",
    "            try:\n",
    "                return func(*args, **kwargs)\n",
    "            except:\n",
    "                return exception\n",
    "        return wrapper\n",
    "    return decorator"
   ]
  },
  {
   "cell_type": "markdown",
   "metadata": {},
   "source": [
    "<br>\n",
    "\n",
    "### Collecting Stream Data\n",
    "\n",
    "We start by extracting the labels for the streams"
   ]
  },
  {
   "cell_type": "code",
   "execution_count": 8,
   "metadata": {},
   "outputs": [
    {
     "data": {
      "text/plain": [
       "['contracted-energy-volumes-and-data',\n",
       " 'firm-frequency-response-auction-results',\n",
       " 'fast-reserve-tender-reports',\n",
       " 'balancing-services-charging-report-bcr',\n",
       " 'current-balancing-services-use-of-system-bsuos-data']"
      ]
     },
     "execution_count": 8,
     "metadata": {},
     "output_type": "execute_result"
    }
   ],
   "source": [
    "streams = list(stream_to_id_map.keys())\n",
    "\n",
    "streams[:5]"
   ]
  },
  {
   "cell_type": "markdown",
   "metadata": {},
   "source": [
    "<br>\n",
    "\n",
    "Next we create a function which will allow us to extract an example row from each returned dataframe"
   ]
  },
  {
   "cell_type": "code",
   "execution_count": 4,
   "metadata": {},
   "outputs": [
    {
     "data": {
      "text/plain": [
       "{'_id': 1,\n",
       " 'Date': '2019-04-11T00:00:00',\n",
       " 'SP': 48,\n",
       " 'Volume Fixed Price (MW)': 0,\n",
       " 'Volume Indexed (MW)': 0}"
      ]
     },
     "execution_count": 4,
     "metadata": {},
     "output_type": "execute_result"
    }
   ],
   "source": [
    "df_to_example_row = lambda df: df.iloc[0].to_dict() \n",
    "\n",
    "stream = streams[0]\n",
    "wrapper = Wrapper(stream)\n",
    "\n",
    "df = wrapper.query_API()\n",
    "example_row = df_to_example_row(df)\n",
    "\n",
    "example_row"
   ]
  },
  {
   "cell_type": "markdown",
   "metadata": {},
   "source": [
    "<br>\n",
    "\n",
    "We're now ready to cycle through each of the streams and repeat the row extraction step"
   ]
  },
  {
   "cell_type": "code",
   "execution_count": 5,
   "metadata": {},
   "outputs": [
    {
     "data": {
      "text/html": [
       "<div><span class=\"Text-label\" style=\"display:inline-block; overflow:hidden; white-space:nowrap; text-overflow:ellipsis; min-width:0; max-width:15ex; vertical-align:middle; text-align:right\"></span>\n",
       "<progress style=\"width:60ex\" max=\"36\" value=\"36\" class=\"Progress-main\"/></progress>\n",
       "<span class=\"Progress-label\"><strong>100%</strong></span>\n",
       "<span class=\"Iteration-label\">36/36</span>\n",
       "<span class=\"Time-label\">[00:09<00:00, 0.24s/it]</span></div>"
      ],
      "text/plain": [
       "\u001b[A\u001b[2K\r",
       " [████████████████████████████████████████████████████████████] 36/36 [00:09<00:00, 0.24s/it]"
      ]
     },
     "metadata": {},
     "output_type": "display_data"
    }
   ],
   "source": [
    "def stream_2_updated_dict(stream, example_rows):\n",
    "    try:\n",
    "        wrapper = Wrapper(stream)\n",
    "        df = wrapper.query_API()\n",
    "        example_row = df_2_example_row(df)\n",
    "        \n",
    "    except:\n",
    "        example_row = np.nan\n",
    "    \n",
    "    example_rows[stream] = example_row\n",
    "    \n",
    "    return example_rows\n",
    "\n",
    "example_rows = dict()\n",
    "\n",
    "for stream in track(streams):\n",
    "    example_rows = stream_2_updated_dict(stream, example_rows)"
   ]
  },
  {
   "cell_type": "markdown",
   "metadata": {},
   "source": [
    "<br>\n",
    "\n",
    "We'll now go through and log any streams which didnt return a dataframe and remove them from the main stream dictionary"
   ]
  },
  {
   "cell_type": "code",
   "execution_count": 6,
   "metadata": {},
   "outputs": [
    {
     "data": {
      "text/plain": [
       "['fast-reserve-tender-reports',\n",
       " 'balancing-services-charging-report-bcr',\n",
       " 'mbss',\n",
       " 'firm-frequency-response-market-information',\n",
       " 'balancing-services-use-of-system-bsuos-daily-cost',\n",
       " 'fast-reserve-market-information-reports',\n",
       " 'short-term-operating-reserve-stor',\n",
       " 'historic-demand-data',\n",
       " 'obligatory-reactive-power-service-orps-utilisation',\n",
       " 'firm-frequency-response-post-tender-reports']"
      ]
     },
     "execution_count": 6,
     "metadata": {},
     "output_type": "execute_result"
    }
   ],
   "source": [
    "null_streams = []\n",
    "\n",
    "for stream in streams:\n",
    "    if isinstance(example_rows[stream], float):\n",
    "        null_streams += [stream]\n",
    "        example_rows.pop(stream)\n",
    "        \n",
    "null_streams"
   ]
  },
  {
   "cell_type": "markdown",
   "metadata": {},
   "source": [
    "<br>\n",
    "\n",
    "Finally we'll output the streams along with the names of the columns in their dataframes"
   ]
  },
  {
   "cell_type": "code",
   "execution_count": 7,
   "metadata": {},
   "outputs": [
    {
     "name": "stdout",
     "output_type": "stream",
     "text": [
      "contracted-energy-volumes-and-data:\n",
      "_id, Date, SP, Volume Fixed Price (MW), Volume Indexed (MW)\n",
      "\n",
      "firm-frequency-response-auction-results:\n",
      "_id, DATE, EFA, SERVICE ID, BUY QTY LIMIT MW, BUY PRICE LIMIT GBP/MW/H, CLEARED QUANTITY MW, CLEARED PRICE GBP/MW/H\n",
      "\n",
      "current-balancing-services-use-of-system-bsuos-data:\n",
      "_id, Settlement Day, Settlement Period, BSUoS Price (£/MWh Hour), Half-hourly Charge, Total Daily BSUoS Charge, Run Type\n",
      "\n",
      "weekly-wind-availability:\n",
      "_id, BMU_ID, Week Number, MW\n",
      "\n",
      "outturn-voltage-costs:\n",
      "_id, Row Labels, Dumfries & Galloway, E Corridor, E England, East Midlands, Humber, London, Mersey, N Wales, NE Scotland, NW England, NW Scotland, S Central, S Wales, SE England, SW England, W Corridor, W Midlands, W Scotland, South Yorks, Grand Total\n",
      "\n",
      "bsuos-monthly-cost:\n",
      "_id, Month, Financial Week, Day, Total Balancing Cost, F = forecast, BM + Trading + SOSO, Non Delivery, Total Balancing Mechanism Costs, Energy Balancing, Total System Balancing, Response, Negative Reserve, Fast Reserve, Standing Reserve, Margin, Other Reserve (Unwinding), BM Constrained Margin, BM Constraints Total, BM Constraints (1) E&W, BM Constraints (2) Cheviot, BM Constraints (3) Scotland, Black Start, Other, Total Trades, Energy Trades, Total Sys Trades, Trade Negative Reserve, Trade Margin, UTEV, Trade Constrained Margin, Trade Constraints Total, Trade Constraints (1) E&W, Trade Constraints (2) Cheviot, Trade Constraints (3) Scotland, Total SO-SO, Energy SOSO Trades, Total SO-SO Sys, SO-SO Margin, SO-SO Constrained Margin, SO-SO Negative Reserve, Ramping, SO-SO invoked by external party, SO-SO Constraints Total, SOSO Constraints (1) E&W, SOSO Constraints (2) Cheviot, SOSO Constraints (3) Scotland, Total Ancillary Services (inc outstanding liabilities), Total Ancillary Services (excl outstanding liabilities), AS RESPONSE TOTAL, BM Generator Response (Mandatory), BM Generator Response (Commercial), BM Generator Response Energy (Mandatory), BM Generator Response Energy (Commercial), Hydro Optional Response\n",
      "(Mandatory), Hydro Optional Response\n",
      "(Commercial), Hydro Optional Response Energy\n",
      "(Mandatory), Hydro Optional Response Energy\n",
      "(Commercial), Hydro Spin Gen with LF, Hydro Pump deload, BM Enhanced Frequency Response\n",
      "(commercial), Interconnector Response (Commercial), NBM Enhanced Frequency Response\n",
      "(commercial), NBM Demand Side Response (Commerical), BM Other Response (Commercial), NBM Other Response (Commercial), BM FFR Hydro\n",
      " (Tendered), BM FFR Hydro Response Energy\n",
      "(Tendered), BM FFR\n",
      " (Tendered), BM FFR Response Energy\n",
      "(Tendered), NBM FFR\n",
      "(tendered), AS FAST RESERVE TOTAL, Hydro Spin Gen No LF\n",
      "(Commerical), BM Optional Fast Reserve ( tendered), NBM Optional Fast Reserve Availability\n",
      "(Tendered), NBM Optional Fast Reserve Utilisation\n",
      "(Tendered), BM Firm Fast Reserve (Tendered), NBM Firm Fast Reserve Avail + Nom (Tendered), NBM Firm Fast Reserve Utilisation\n",
      "(Tendered), AS STANDING RESERVE TOTAL, BM  STOR\n",
      " (Tendered), HYDRO  STOR (Tendered), NBM STOR AVAIL\n",
      " (Tendered), NBM STOR UTIL \n",
      "(Tendered), BM Season/Term Reconciliations \n",
      "(Tendered), NBM Season/Term Reconciliations \n",
      "(Tendered), AS OTHER RESERVE TOTAL, BM Warming \n",
      "(Commercial), BM Demand Turn Up\n",
      "(commerical), BM Power Potential, NBM Demand Turn Up\n",
      "(commerical), BM GT Fast Start Avail (Commerial), Hydro Rapid Start\n",
      "(Commercial), Hydro Optional Spin Pump\n",
      "(Commercial), AS REACTIVE POWER TOTAL, BM/HYDRO Default Utilisation \n",
      "(Mandatory - CVA), BM Utilisation (Mandatory - SVA), BM Reactive Utilisation\n",
      " (Commercial), BM Sync Comp Reactive ( Commerical), Power Potential ( Commercial), AS BLACK START TOTAL, BM/HYDRO Black Start Availability\n",
      "(commercial), Interconnector Black Start Availability\n",
      "(commercial), BM Black Start Test\n",
      "(Commerical), BM Black Start Capital Contributions\n",
      "(Commerical), BM Black Start Feasibility (Commercial), BM Black Start Warming (Commercial), BM Black Start Other\n",
      "( Commerical), SO-SO COSTS TOTAL, SO-SO Trades\n",
      "(Commercial), SO-SO Interconnector Capability\n",
      "(Commerical), NGIL Intertrip\n",
      "(Commercial), AS CONSTRAINT COSTS TOTAL, BM Intertrip capability (Mandatory - CAP76), BM Intertrip capability  (Commercial), BM Intertrip Arming  (Commercial), Interconnector Intertrip Arming (Commercial), BM Intertrip - trip (Mandatory and Commercial), BM Constraints ( Strike Price contracts), BM Contraints (Other), AS OTHER COSTS TOTAL, Trading Option Fees, Bank Charges, RTE Sterling adj, AS OUTSTANDING LIABILITIES TOTAL, Customer Raised Disputes, National Grid Identified liability\n",
      "\n",
      "bsuos-monthly-forecast:\n",
      "_id, Month, Energy Imbalance, Operating Reserve, STOR, Constraints - E&W, Constraints - Cheviot, Constraints - Scotland, Constraints - AS, Negative Reserve, Fast Reserve, Response, Other Reserve, Reactive, Minor Components, Black Start, Total, Demand, Estimated Internal BSUos(£m), Esitmated NGET Profit/(Loss), Esitimated BSUoS Charge (£/MWh), Constraints, ALoMCP\n",
      "\n",
      "system-frequency-data:\n",
      "_id, dtm, f\n",
      "\n",
      "short-term-operating-reserve-tender-reports:\n",
      "_id, Season, STOR_ID, Contracted MW, BM/NBM, C/F, Response Time, Availability Price, Utilisation Price, Optional Utilisation Price, Accepted, Location, All or Nothing, indexation, AON ID, Unit, Company, Fuel Type\n",
      "\n",
      "daily-wind-availability:\n",
      "_id, BMU_ID, Date, MW\n",
      "\n",
      "weekly-opmr:\n",
      "_id, Publish Date, Week Commencing:, Peak Demand Forecast, Generator Availability, Contracted Availability, Maximum I/C Export, Maximum I/C Import, Generation Availability Margin, Contingency Requirement, STORR Requirement, Operating Reserve provided by I/Cs, Unavailable to Market  & Commissioning Plant, Unavailable to National Grid, Available only to National Grid in exceptional circumstances, Reduction from additional availability (Not declared via OC2), Reduction in Low Frequency Response Reserve Requirement, OPMR total, National Surplus (SPLD), Effect of wind on surplus, Generation Availability Margin excluding wind, Minimum Demand Forecast, Total Negative Reserve Requirement for Minimum Demand, High Freq Response  Requirement\n",
      "\n",
      "daily-opmr:\n",
      "_id, Publish Date, Date, Peak Demand Forecast, Generator Availability, Contracted Availability, Maximum I/C Export, Maximum I/C Import, Generation Availability Margin, Contingency Requirement, STORR Requirement, Operating Reserve provided by I/Cs, Unavailable to Market  & Commissioning Plant, Unavailable to National Grid, Available only to National Grid in exceptional circumstances, Reduction from additional availability (Not declared via OC2), Reduction in Low Frequency Response Reserve Requirement, OPMR total, National Surplus (SPLD), Effect of wind on surplus, Generation Availability Margin excluding wind, Minimum Demand Forecast, Total Negative Reserve Requirement for Minimum Demand, High Freq Response  Requirement\n",
      "\n",
      "2-day-ahead-demand-forecast:\n",
      "_id, DAYSAHEAD, TARGETDATE, FORECASTDEMAND, CARDINALPOINT, CP_TYPE, CP_ST_TIME, CP_END_TIME, F_Point\n",
      "\n",
      "day-ahead-constraint-flows-and-limits:\n",
      "_id, Constraint Group, Date, Limit, Flow\n",
      "\n",
      "disaggregated-bsad:\n",
      "_id, Date, Settlement Period, Disaggregated BSAD Volume (MWh), Disaggregated BSAD Cost (£), Trade Flag System (T) / Energy (F)\n",
      "\n",
      "aggregated-bsad:\n",
      "_id, Date, Settlement Period, EBCA (£), EBVA (MWh), SBVA (MWh), BPA (£/MWh), ESCA (£), ESVA (MWh), SSVA (MWh), SPA (£/MWh)\n",
      "\n",
      "balancing-services-adjustment-data-forward-contracts:\n",
      "_id, Date, Settlement Period, BCA (£), BSA (MWh), BVA (MWh), SCA (£), SSA (MWh), SVA (MWh)\n",
      "\n",
      "thermal-constraint-costs:\n",
      "_id, 2019-08-01 00:00:00\n",
      "\n",
      "daily-demand-update:\n",
      "_id, SETTLEMENT_DATE, SETTLEMENT_PERIOD, ND, FORECAST_ACTUAL_INDICATOR, I014_ND, TSD, I014_TSD, ENGLAND_WALES_DEMAND, EMBEDDED_WIND_GENERATION, EMBEDDED_WIND_CAPACITY, EMBEDDED_SOLAR_GENERATION, EMBEDDED_SOLAR_CAPACITY, NON_BM_STOR, PUMP_STORAGE_PUMPING, I014_PUMP_STORAGE_PUMPING, FRENCH_FLOW, BRITNED_FLOW, MOYLE_FLOW, EAST_WEST_FLOW, NEMO_FLOW, I014_FRENCH_FLOW, I014_BRITNED_FLOW, I014_MOYLE_FLOW, I014_EAST_WEST_FLOW\n",
      "\n",
      "balancing-services-use-of-system-bsuos-daily-forecast:\n",
      "_id, Date, SP, BSUoS £/MWh, Half hourly cost £, Half hourly volume MWh\n",
      "\n",
      "7-day-ahead-national-forecast:\n",
      "_id, DAYSAHEAD, TARGETDATE, FORECASTDEMAND, CARDINALPOINT, CP_TYPE, CP_ST_TIME, CP_END_TIME, F_Point\n",
      "\n",
      "upcoming-trades:\n",
      "_id, SettlementDate, SettlementPeriod, ID, Cost, Volume, Price, SO Flag\n",
      "\n",
      "day-ahead-wind-forecast:\n",
      "_id, Datetime_GMT, Date, Settlement_period, Capacity, Incentive_forecast\n",
      "\n",
      "1-day-ahead-demand-forecast:\n",
      "_id, DAYSAHEAD, TARGETDATE, FORECASTDEMAND, CARDINALPOINT, CP_TYPE, CP_ST_TIME, CP_END_TIME, F_Point\n",
      "\n",
      "embedded-wind-and-solar-forecasts:\n",
      "_id, DATE_GMT, TIME_GMT, SETTLEMENT_DATE, SETTLEMENT_PERIOD, EMBEDDED_WIND_FORECAST, EMBEDDED_WIND_CAPACITY, EMBEDDED_SOLAR_FORECAST, EMBEDDED_SOLAR_CAPACITY\n",
      "\n",
      "generation-mix-national:\n",
      "_id, dateTime_from, dateTime_to, biomass_perc, coal_perc, imports_perc, gas_perc, nuclear_perc, other_perc, hydro_perc, solar_perc, wind_perc\n",
      "\n"
     ]
    }
   ],
   "source": [
    "cols = [list(example_row.keys()) for example_row in example_rows.values()]\n",
    "stream_2_cols = dict(zip(example_rows.keys(), cols))\n",
    "\n",
    "for key, value in stream_2_cols.items():\n",
    "    print(f\"{key}:\\n{', '.join(value)}\\n\")"
   ]
  }
 ],
 "metadata": {
  "kernelspec": {
   "display_name": "Python 3",
   "language": "python",
   "name": "python3"
  },
  "language_info": {
   "codemirror_mode": {
    "name": "ipython",
    "version": 3
   },
   "file_extension": ".py",
   "mimetype": "text/x-python",
   "name": "python",
   "nbconvert_exporter": "python",
   "pygments_lexer": "ipython3",
   "version": "3.7.6"
  }
 },
 "nbformat": 4,
 "nbformat_minor": 4
}
