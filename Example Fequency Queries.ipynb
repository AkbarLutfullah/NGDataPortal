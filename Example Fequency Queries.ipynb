{
 "cells": [
  {
   "cell_type": "markdown",
   "metadata": {},
   "source": [
    "# Example Queries\n",
    "\n",
    "<br>\n",
    "\n",
    "### Imports"
   ]
  },
  {
   "cell_type": "code",
   "execution_count": 52,
   "metadata": {},
   "outputs": [],
   "source": [
    "import pandas as pd\n",
    "import numpy as np\n",
    "\n",
    "import matplotlib.pyplot as plt\n",
    "import seaborn as sns\n",
    "\n",
    "from NGDataPortal import Wrapper, stream_to_id_map"
   ]
  },
  {
   "cell_type": "markdown",
   "metadata": {},
   "source": [
    "<br>\n",
    "\n",
    "### Examples\n",
    "\n",
    "We'll start by initialising the API wrapper and assigning its stream as embedded wind anf solar forecasts"
   ]
  },
  {
   "cell_type": "code",
   "execution_count": 53,
   "metadata": {},
   "outputs": [
    {
     "data": {
      "text/html": [
       "<div>\n",
       "<style scoped>\n",
       "    .dataframe tbody tr th:only-of-type {\n",
       "        vertical-align: middle;\n",
       "    }\n",
       "\n",
       "    .dataframe tbody tr th {\n",
       "        vertical-align: top;\n",
       "    }\n",
       "\n",
       "    .dataframe thead th {\n",
       "        text-align: right;\n",
       "    }\n",
       "</style>\n",
       "<table border=\"1\" class=\"dataframe\">\n",
       "  <thead>\n",
       "    <tr style=\"text-align: right;\">\n",
       "      <th></th>\n",
       "      <th>_id</th>\n",
       "      <th>DATE_GMT</th>\n",
       "      <th>TIME_GMT</th>\n",
       "      <th>SETTLEMENT_DATE</th>\n",
       "      <th>SETTLEMENT_PERIOD</th>\n",
       "      <th>EMBEDDED_WIND_FORECAST</th>\n",
       "      <th>EMBEDDED_WIND_CAPACITY</th>\n",
       "      <th>EMBEDDED_SOLAR_FORECAST</th>\n",
       "      <th>EMBEDDED_SOLAR_CAPACITY</th>\n",
       "    </tr>\n",
       "  </thead>\n",
       "  <tbody>\n",
       "    <tr>\n",
       "      <th>0</th>\n",
       "      <td>1</td>\n",
       "      <td>20200502</td>\n",
       "      <td>2130</td>\n",
       "      <td>2020-05-02T00:00:00</td>\n",
       "      <td>45</td>\n",
       "      <td>408</td>\n",
       "      <td>6527</td>\n",
       "      <td>0</td>\n",
       "      <td>13080</td>\n",
       "    </tr>\n",
       "    <tr>\n",
       "      <th>1</th>\n",
       "      <td>2</td>\n",
       "      <td>20200502</td>\n",
       "      <td>2200</td>\n",
       "      <td>2020-05-02T00:00:00</td>\n",
       "      <td>46</td>\n",
       "      <td>386</td>\n",
       "      <td>6527</td>\n",
       "      <td>0</td>\n",
       "      <td>13080</td>\n",
       "    </tr>\n",
       "    <tr>\n",
       "      <th>2</th>\n",
       "      <td>3</td>\n",
       "      <td>20200502</td>\n",
       "      <td>2230</td>\n",
       "      <td>2020-05-02T00:00:00</td>\n",
       "      <td>47</td>\n",
       "      <td>386</td>\n",
       "      <td>6527</td>\n",
       "      <td>0</td>\n",
       "      <td>13080</td>\n",
       "    </tr>\n",
       "    <tr>\n",
       "      <th>3</th>\n",
       "      <td>4</td>\n",
       "      <td>20200502</td>\n",
       "      <td>2300</td>\n",
       "      <td>2020-05-02T00:00:00</td>\n",
       "      <td>48</td>\n",
       "      <td>357</td>\n",
       "      <td>6527</td>\n",
       "      <td>0</td>\n",
       "      <td>13080</td>\n",
       "    </tr>\n",
       "    <tr>\n",
       "      <th>4</th>\n",
       "      <td>5</td>\n",
       "      <td>20200502</td>\n",
       "      <td>2330</td>\n",
       "      <td>2020-05-03T00:00:00</td>\n",
       "      <td>1</td>\n",
       "      <td>357</td>\n",
       "      <td>6527</td>\n",
       "      <td>0</td>\n",
       "      <td>13082</td>\n",
       "    </tr>\n",
       "  </tbody>\n",
       "</table>\n",
       "</div>"
      ],
      "text/plain": [
       "   _id  DATE_GMT  TIME_GMT      SETTLEMENT_DATE  SETTLEMENT_PERIOD  \\\n",
       "0    1  20200502      2130  2020-05-02T00:00:00                 45   \n",
       "1    2  20200502      2200  2020-05-02T00:00:00                 46   \n",
       "2    3  20200502      2230  2020-05-02T00:00:00                 47   \n",
       "3    4  20200502      2300  2020-05-02T00:00:00                 48   \n",
       "4    5  20200502      2330  2020-05-03T00:00:00                  1   \n",
       "\n",
       "   EMBEDDED_WIND_FORECAST  EMBEDDED_WIND_CAPACITY  EMBEDDED_SOLAR_FORECAST  \\\n",
       "0                     408                    6527                        0   \n",
       "1                     386                    6527                        0   \n",
       "2                     386                    6527                        0   \n",
       "3                     357                    6527                        0   \n",
       "4                     357                    6527                        0   \n",
       "\n",
       "   EMBEDDED_SOLAR_CAPACITY  \n",
       "0                    13080  \n",
       "1                    13080  \n",
       "2                    13080  \n",
       "3                    13080  \n",
       "4                    13082  "
      ]
     },
     "execution_count": 53,
     "metadata": {},
     "output_type": "execute_result"
    }
   ],
   "source": [
    "stream = 'embedded-wind-and-solar-forecasts'\n",
    "wrapper = Wrapper(stream)\n",
    "\n",
    "df = wrapper.query_API()\n",
    "\n",
    "df.head()"
   ]
  },
  {
   "cell_type": "markdown",
   "metadata": {},
   "source": [
    "<br>\n",
    "\n",
    "We can reassign the stream used by the wrapper easily"
   ]
  },
  {
   "cell_type": "code",
   "execution_count": 54,
   "metadata": {},
   "outputs": [
    {
     "data": {
      "text/html": [
       "<div>\n",
       "<style scoped>\n",
       "    .dataframe tbody tr th:only-of-type {\n",
       "        vertical-align: middle;\n",
       "    }\n",
       "\n",
       "    .dataframe tbody tr th {\n",
       "        vertical-align: top;\n",
       "    }\n",
       "\n",
       "    .dataframe thead th {\n",
       "        text-align: right;\n",
       "    }\n",
       "</style>\n",
       "<table border=\"1\" class=\"dataframe\">\n",
       "  <thead>\n",
       "    <tr style=\"text-align: right;\">\n",
       "      <th></th>\n",
       "      <th>_id</th>\n",
       "      <th>dtm</th>\n",
       "      <th>f</th>\n",
       "    </tr>\n",
       "  </thead>\n",
       "  <tbody>\n",
       "    <tr>\n",
       "      <th>0</th>\n",
       "      <td>1</td>\n",
       "      <td>2019-12-01T00:00:00</td>\n",
       "      <td>50.118</td>\n",
       "    </tr>\n",
       "    <tr>\n",
       "      <th>1</th>\n",
       "      <td>2</td>\n",
       "      <td>2019-12-01T00:00:01</td>\n",
       "      <td>50.117</td>\n",
       "    </tr>\n",
       "    <tr>\n",
       "      <th>2</th>\n",
       "      <td>3</td>\n",
       "      <td>2019-12-01T00:00:02</td>\n",
       "      <td>50.111</td>\n",
       "    </tr>\n",
       "    <tr>\n",
       "      <th>3</th>\n",
       "      <td>4</td>\n",
       "      <td>2019-12-01T00:00:03</td>\n",
       "      <td>50.100</td>\n",
       "    </tr>\n",
       "    <tr>\n",
       "      <th>4</th>\n",
       "      <td>5</td>\n",
       "      <td>2019-12-01T00:00:04</td>\n",
       "      <td>50.089</td>\n",
       "    </tr>\n",
       "  </tbody>\n",
       "</table>\n",
       "</div>"
      ],
      "text/plain": [
       "   _id                  dtm       f\n",
       "0    1  2019-12-01T00:00:00  50.118\n",
       "1    2  2019-12-01T00:00:01  50.117\n",
       "2    3  2019-12-01T00:00:02  50.111\n",
       "3    4  2019-12-01T00:00:03  50.100\n",
       "4    5  2019-12-01T00:00:04  50.089"
      ]
     },
     "execution_count": 54,
     "metadata": {},
     "output_type": "execute_result"
    }
   ],
   "source": [
    "wrapper.assign_stream('system-frequency-data')\n",
    "\n",
    "df = wrapper.query_API()\n",
    "\n",
    "df.head()"
   ]
  },
  {
   "cell_type": "markdown",
   "metadata": {},
   "source": [
    "<br>\n",
    "\n",
    "And do more complex queries with date ranges"
   ]
  },
  {
   "cell_type": "code",
   "execution_count": 55,
   "metadata": {},
   "outputs": [
    {
     "data": {
      "text/html": [
       "<div>\n",
       "<style scoped>\n",
       "    .dataframe tbody tr th:only-of-type {\n",
       "        vertical-align: middle;\n",
       "    }\n",
       "\n",
       "    .dataframe tbody tr th {\n",
       "        vertical-align: top;\n",
       "    }\n",
       "\n",
       "    .dataframe thead th {\n",
       "        text-align: right;\n",
       "    }\n",
       "</style>\n",
       "<table border=\"1\" class=\"dataframe\">\n",
       "  <thead>\n",
       "    <tr style=\"text-align: right;\">\n",
       "      <th></th>\n",
       "      <th>_id</th>\n",
       "      <th>_full_text</th>\n",
       "      <th>dtm</th>\n",
       "      <th>f</th>\n",
       "    </tr>\n",
       "  </thead>\n",
       "  <tbody>\n",
       "    <tr>\n",
       "      <th>0</th>\n",
       "      <td>1</td>\n",
       "      <td>'-01':3 '-12':2 '00':5,6 '2019':1 '50.118':7 '...</td>\n",
       "      <td>2019-12-01T00:00:00</td>\n",
       "      <td>50.118</td>\n",
       "    </tr>\n",
       "    <tr>\n",
       "      <th>1</th>\n",
       "      <td>2</td>\n",
       "      <td>'-01':3 '-12':2 '00':5 '01':6 '2019':1 '50.117...</td>\n",
       "      <td>2019-12-01T00:00:01</td>\n",
       "      <td>50.117</td>\n",
       "    </tr>\n",
       "    <tr>\n",
       "      <th>2</th>\n",
       "      <td>3</td>\n",
       "      <td>'-01':3 '-12':2 '00':5 '02':6 '2019':1 '50.111...</td>\n",
       "      <td>2019-12-01T00:00:02</td>\n",
       "      <td>50.111</td>\n",
       "    </tr>\n",
       "    <tr>\n",
       "      <th>3</th>\n",
       "      <td>4</td>\n",
       "      <td>'-01':3 '-12':2 '00':5 '03':6 '2019':1 '50.1':...</td>\n",
       "      <td>2019-12-01T00:00:03</td>\n",
       "      <td>50.1</td>\n",
       "    </tr>\n",
       "    <tr>\n",
       "      <th>4</th>\n",
       "      <td>5</td>\n",
       "      <td>'-01':3 '-12':2 '00':5 '04':6 '2019':1 '50.089...</td>\n",
       "      <td>2019-12-01T00:00:04</td>\n",
       "      <td>50.089</td>\n",
       "    </tr>\n",
       "  </tbody>\n",
       "</table>\n",
       "</div>"
      ],
      "text/plain": [
       "   _id                                         _full_text  \\\n",
       "0    1  '-01':3 '-12':2 '00':5,6 '2019':1 '50.118':7 '...   \n",
       "1    2  '-01':3 '-12':2 '00':5 '01':6 '2019':1 '50.117...   \n",
       "2    3  '-01':3 '-12':2 '00':5 '02':6 '2019':1 '50.111...   \n",
       "3    4  '-01':3 '-12':2 '00':5 '03':6 '2019':1 '50.1':...   \n",
       "4    5  '-01':3 '-12':2 '00':5 '04':6 '2019':1 '50.089...   \n",
       "\n",
       "                   dtm       f  \n",
       "0  2019-12-01T00:00:00  50.118  \n",
       "1  2019-12-01T00:00:01  50.117  \n",
       "2  2019-12-01T00:00:02  50.111  \n",
       "3  2019-12-01T00:00:03    50.1  \n",
       "4  2019-12-01T00:00:04  50.089  "
      ]
     },
     "execution_count": 55,
     "metadata": {},
     "output_type": "execute_result"
    }
   ],
   "source": [
    "start_date = '2019-12-01T00:00:00'\n",
    "end_date = '2019-12-02T00:00:00'\n",
    "dt_col = 'dtm'\n",
    "\n",
    "df = wrapper.query_API(start_date=start_date, end_date=end_date, dt_col=dt_col)\n",
    "\n",
    "df.head()"
   ]
  },
  {
   "cell_type": "markdown",
   "metadata": {},
   "source": [
    "<br>\n",
    "\n",
    "We can quickly go from query response data to visualisations"
   ]
  },
  {
   "cell_type": "code",
   "execution_count": 57,
   "metadata": {},
   "outputs": [
    {
     "data": {
      "text/plain": [
       "<matplotlib.axes._subplots.AxesSubplot at 0x2825ed21288>"
      ]
     },
     "execution_count": 57,
     "metadata": {},
     "output_type": "execute_result"
    },
    {
     "data": {
      "image/png": "[encoded data removed]",
      "text/plain": [
       "<Figure size 432x288 with 1 Axes>"
      ]
     },
     "metadata": {
      "needs_background": "light"
     },
     "output_type": "display_data"
    }
   ],
   "source": [
    "s_freq = (df\n",
    "          .assign(dtm=pd.to_datetime(df['dtm'], utc=True))\n",
    "          .set_index('dtm')\n",
    "          ['f']\n",
    "          .astype(float)\n",
    "         )\n",
    "\n",
    "s_freq.plot()"
   ]
  },
  {
   "cell_type": "markdown",
   "metadata": {},
   "source": [
    "<br>\n",
    "\n",
    "And return the raw data when debugging or exploring metadata"
   ]
  },
  {
   "cell_type": "code",
   "execution_count": 58,
   "metadata": {},
   "outputs": [
    {
     "data": {
      "text/plain": [
       "b'{\"help\": \"https://national-grid-admin.ckan.io/api/3/action/help_show?name=datastore_search_sql\", \"success\": true, \"result\": {\"records\": [{\"_id\": 1, \"_full_text\": \"\\'-01\\':3 \\'-12\\':2 \\'00\\':5,6 \\'2019\\':1 \\'50.118\\':7 \\'t00\\':4\", \"dtm\": \"2019-12-01T00:00:00\", \"f\": \"50.118\"}, {\"_id\": 2, \"_full_text\": \"\\'-01\\':3 \\'-12\\':2 \\'00\\':5 \\'01\\':6 \\'2019\\':1 \\'50.117\\':7 \\'t00\\':4\", \"dtm\": \"2019-12-01T00:00:01\", \"f\": \"50.117\"}, {\"_id\": 3, \"_full_text\": \"\\'-01\\':3 \\'-12\\':2 \\'00\\':5 \\'02\\':6 \\'2019\\':1 \\'50.111\\':7 \\'t00\\':4\", \"dtm\": \"2019-12-01T00:00:02\", \"f\": \"50.111\"}, {\"_id\": 4, \"_full_text\": \"\\'-01\\':3 \\'-12\\':2 \\'00\\':5 \\'03\\':6 \\'2019\\':1 \\'50.1\\':7 \\'t00\\':4\", \"dtm\": \"2019-12-01T00:00:03\", \"f\": \"50.1\"}, {\"_id\": 5, \"_full_text\": \"\\'-01\\':3 \\'-12\\':2 \\'00\\':5 \\'04\\':6 \\'2019\\':1 \\'50.089\\':7 \\'t00\\':4\", \"dtm\": \"2019-12-01T00:00:04\", \"f\": \"50.089\"}, {\"_id\": 6, \"_full_text\": \"\\'-01\\':3 \\'-12\\':2 \\'00\\':5 \\'05\\':6 \\'2019\\':1 \\'50.076\\':7 \\'t00\\':4\", \"dtm\": \"2019-12-01T00:00:05\", \"f\": \"50.076\"}], \"resource_id\": \"f0933bdd-1b0e-4dd3-aa7f-5498df1ba5b9\", \"fields\": [{\"type\": \"int4\", \"id\": \"_id\"}, {\"type\": \"tsvector\", \"id\": \"_full_text\"}, {\"type\": \"timestamp\", \"id\": \"dtm\"}, {\"type\": \"numeric\", \"id\": \"f\"}], \"sql\": \"SELECT * from \\\\\"f0933bdd-1b0e-4dd3-aa7f-5498df1ba5b9\\\\\" WHERE \\\\\"dtm\\\\\" BETWEEN \\'2019-12-01T00:00:00\\'::timestamp AND \\'2019-12-01T00:00:05\\'::timestamp ORDER BY \\\\\"dtm\\\\\"\"}}'"
      ]
     },
     "execution_count": 58,
     "metadata": {},
     "output_type": "execute_result"
    }
   ],
   "source": [
    "start_date = '2019-12-01T00:00:00'\n",
    "end_date = '2019-12-01T00:00:05'\n",
    "\n",
    "r = wrapper.query_API(start_date=start_date, end_date=end_date, dt_col=dt_col, return_raw=True)\n",
    "\n",
    "r.content"
   ]
  }
 ],
 "metadata": {
  "kernelspec": {
   "display_name": "Python 3",
   "language": "python",
   "name": "python3"
  },
  "language_info": {
   "codemirror_mode": {
    "name": "ipython",
    "version": 3
   },
   "file_extension": ".py",
   "mimetype": "text/x-python",
   "name": "python",
   "nbconvert_exporter": "python",
   "pygments_lexer": "ipython3",
   "version": "3.7.6"
  }
 },
 "nbformat": 4,
 "nbformat_minor": 4
}
